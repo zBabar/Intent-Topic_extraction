{
 "cells": [
  {
   "cell_type": "markdown",
   "metadata": {},
   "source": [
    "### Simple Classification\n",
    "\n",
    "One of the obivious thing is try a simple classification and check if its works or not. Let's try a very simple machine learning models NB to see how much it works"
   ]
  },
  {
   "cell_type": "code",
   "execution_count": 1,
   "metadata": {},
   "outputs": [
    {
     "name": "stderr",
     "output_type": "stream",
     "text": [
      "[nltk_data] Downloading package stopwords to\n",
      "[nltk_data]     /Users/zaheerbabar/nltk_data...\n",
      "[nltk_data]   Package stopwords is already up-to-date!\n"
     ]
    }
   ],
   "source": [
    "import pandas as pd\n",
    "import numpy as np\n",
    "from sklearn.model_selection import StratifiedKFold\n",
    "from sklearn.model_selection import train_test_split\n",
    "from utils import Dataset, Preprocessing\n",
    "from models import Models\n",
    "import matplotlib.pyplot as plt\n",
    "\n",
    "import warnings\n",
    "warnings.filterwarnings('ignore')\n",
    "\n",
    "models = Models()"
   ]
  },
  {
   "cell_type": "markdown",
   "metadata": {},
   "source": [
    "Get the labelled dataset "
   ]
  },
  {
   "cell_type": "code",
   "execution_count": 2,
   "metadata": {},
   "outputs": [
    {
     "data": {
      "text/html": [
       "<div>\n",
       "<style scoped>\n",
       "    .dataframe tbody tr th:only-of-type {\n",
       "        vertical-align: middle;\n",
       "    }\n",
       "\n",
       "    .dataframe tbody tr th {\n",
       "        vertical-align: top;\n",
       "    }\n",
       "\n",
       "    .dataframe thead th {\n",
       "        text-align: right;\n",
       "    }\n",
       "</style>\n",
       "<table border=\"1\" class=\"dataframe\">\n",
       "  <thead>\n",
       "    <tr style=\"text-align: right;\">\n",
       "      <th></th>\n",
       "      <th>phrase</th>\n",
       "      <th>label</th>\n",
       "    </tr>\n",
       "  </thead>\n",
       "  <tbody>\n",
       "    <tr>\n",
       "      <th>0</th>\n",
       "      <td>wanneer is de iphone 14 er</td>\n",
       "      <td>M_ASSORTIMENT_BESCHIKBAARHEID</td>\n",
       "    </tr>\n",
       "    <tr>\n",
       "      <th>1</th>\n",
       "      <td>wanneer is de iphone 14 beschikbaar</td>\n",
       "      <td>M_ASSORTIMENT_BESCHIKBAARHEID</td>\n",
       "    </tr>\n",
       "    <tr>\n",
       "      <th>2</th>\n",
       "      <td>wanneer komt de iphone 14 uit</td>\n",
       "      <td>M_ASSORTIMENT_BESCHIKBAARHEID</td>\n",
       "    </tr>\n",
       "    <tr>\n",
       "      <th>3</th>\n",
       "      <td>samsung door jullie ook verkocht</td>\n",
       "      <td>M_ASSORTIMENT_BESCHIKBAARHEID</td>\n",
       "    </tr>\n",
       "    <tr>\n",
       "      <th>4</th>\n",
       "      <td>hebben jullie de google pixel ook</td>\n",
       "      <td>M_ASSORTIMENT_BESCHIKBAARHEID</td>\n",
       "    </tr>\n",
       "    <tr>\n",
       "      <th>...</th>\n",
       "      <td>...</td>\n",
       "      <td>...</td>\n",
       "    </tr>\n",
       "    <tr>\n",
       "      <th>1520</th>\n",
       "      <td>ik moet voor eerste factuur 38.5 euro 41 euro ...</td>\n",
       "      <td>MT_FACTUUR_EERSTE</td>\n",
       "    </tr>\n",
       "    <tr>\n",
       "      <th>1521</th>\n",
       "      <td>abonnement van 10 per maand en op de eerste fa...</td>\n",
       "      <td>MT_FACTUUR_EERSTE</td>\n",
       "    </tr>\n",
       "    <tr>\n",
       "      <th>1522</th>\n",
       "      <td>ook internet voor thuis bestelde wanneer is he...</td>\n",
       "      <td>MT_FACTUUR_EERSTE</td>\n",
       "    </tr>\n",
       "    <tr>\n",
       "      <th>1523</th>\n",
       "      <td>na verlebging van abonnement was eerste factuu...</td>\n",
       "      <td>MT_FACTUUR_EERSTE</td>\n",
       "    </tr>\n",
       "    <tr>\n",
       "      <th>1524</th>\n",
       "      <td>waar vind ik de eerste factuur die staat niet ...</td>\n",
       "      <td>MT_FACTUUR_EERSTE</td>\n",
       "    </tr>\n",
       "  </tbody>\n",
       "</table>\n",
       "<p>1525 rows × 2 columns</p>\n",
       "</div>"
      ],
      "text/plain": [
       "                                                 phrase  \\\n",
       "0                            wanneer is de iphone 14 er   \n",
       "1                   wanneer is de iphone 14 beschikbaar   \n",
       "2                         wanneer komt de iphone 14 uit   \n",
       "3                      samsung door jullie ook verkocht   \n",
       "4                     hebben jullie de google pixel ook   \n",
       "...                                                 ...   \n",
       "1520  ik moet voor eerste factuur 38.5 euro 41 euro ...   \n",
       "1521  abonnement van 10 per maand en op de eerste fa...   \n",
       "1522  ook internet voor thuis bestelde wanneer is he...   \n",
       "1523  na verlebging van abonnement was eerste factuu...   \n",
       "1524  waar vind ik de eerste factuur die staat niet ...   \n",
       "\n",
       "                              label  \n",
       "0     M_ASSORTIMENT_BESCHIKBAARHEID  \n",
       "1     M_ASSORTIMENT_BESCHIKBAARHEID  \n",
       "2     M_ASSORTIMENT_BESCHIKBAARHEID  \n",
       "3     M_ASSORTIMENT_BESCHIKBAARHEID  \n",
       "4     M_ASSORTIMENT_BESCHIKBAARHEID  \n",
       "...                             ...  \n",
       "1520              MT_FACTUUR_EERSTE  \n",
       "1521              MT_FACTUUR_EERSTE  \n",
       "1522              MT_FACTUUR_EERSTE  \n",
       "1523              MT_FACTUUR_EERSTE  \n",
       "1524              MT_FACTUUR_EERSTE  \n",
       "\n",
       "[1525 rows x 2 columns]"
      ]
     },
     "execution_count": 2,
     "metadata": {},
     "output_type": "execute_result"
    }
   ],
   "source": [
    "data_obj = Dataset() \n",
    "\n",
    "# get labelled data\n",
    "train_df = data_obj.get_labelled_data()\n",
    "train_df"
   ]
  },
  {
   "cell_type": "markdown",
   "metadata": {},
   "source": [
    "Apply proprocessing (cleaning using Dutch spaCy model, doing label encoding, and then converting the text in Document term frequencey matrix)"
   ]
  },
  {
   "cell_type": "code",
   "execution_count": 3,
   "metadata": {},
   "outputs": [
    {
     "data": {
      "text/plain": [
       "(1525, 581)"
      ]
     },
     "execution_count": 3,
     "metadata": {},
     "output_type": "execute_result"
    }
   ],
   "source": [
    "# get preporcessing object\n",
    "process_obj = Preprocessing()\n",
    "\n",
    "# get the data preprocessed\n",
    "cleaned_train_df = process_obj.get_preprocessd_data(train_df, text_column=\"phrase\", has_labels = True)\n",
    "\n",
    "# get Document Term frequence matrix\n",
    "X, y = process_obj.get_DTM(cleaned_train_df)\n",
    "### could add feature selection here\n",
    "X.shape"
   ]
  },
  {
   "cell_type": "code",
   "execution_count": 4,
   "metadata": {},
   "outputs": [
    {
     "data": {
      "image/png": "[encoded data removed]",
      "text/plain": [
       "<Figure size 640x480 with 1 Axes>"
      ]
     },
     "metadata": {},
     "output_type": "display_data"
    }
   ],
   "source": [
    "# Create histogram\n",
    "plt.hist(y, bins=15, edgecolor='black')\n",
    "\n",
    "# Add titles and labels\n",
    "plt.title('Intents Frequency')\n",
    "plt.xlabel('Intent')\n",
    "plt.ylabel('Frequency')\n",
    "\n",
    "# Show plot\n",
    "plt.show()"
   ]
  },
  {
   "cell_type": "markdown",
   "metadata": {},
   "source": [
    "Use a simple machine learning models like Naive Bayes"
   ]
  },
  {
   "cell_type": "code",
   "execution_count": 5,
   "metadata": {},
   "outputs": [],
   "source": [
    "\n",
    "# Initialize the classifier\n",
    "clf = models.get_simple_Classifier()"
   ]
  },
  {
   "cell_type": "markdown",
   "metadata": {},
   "source": [
    "Apply cross validation using Stratified sampling to make sure we getting equal representation of the each class in training data."
   ]
  },
  {
   "cell_type": "code",
   "execution_count": 6,
   "metadata": {},
   "outputs": [
    {
     "name": "stdout",
     "output_type": "stream",
     "text": [
      "Cross-validation scores: [0.8366013071895425, 0.8300653594771242, 0.8300653594771242, 0.8627450980392157, 0.8562091503267973, 0.8618421052631579, 0.881578947368421, 0.8618421052631579, 0.8223684210526315, 0.8421052631578947]\n",
      "Mean accuracy: 0.8485423116615067\n"
     ]
    }
   ],
   "source": [
    "SKF = StratifiedKFold(n_splits=10, shuffle=True, random_state=1)\n",
    "scores = []\n",
    "for train_index, val_index in SKF.split(X, y):\n",
    "    x_train_fold, x_val_fold = X[train_index], X[val_index]\n",
    "    y_train_fold, y_val_fold = y[train_index], y[val_index]\n",
    "    clf.fit(x_train_fold, y_train_fold)\n",
    "    scores.append(clf.score(x_val_fold, y_val_fold))\n",
    "# Perform 10-fold cross-validation\n",
    "# scores = cross_val_score(clf, X, y, cv=10)\n",
    "\n",
    "print(f\"Cross-validation scores: {scores}\")\n",
    "print(f\"Mean accuracy: {np.mean(scores)}\")\n"
   ]
  },
  {
   "cell_type": "markdown",
   "metadata": {},
   "source": [
    "Now apply the apply over the unlablled dataset"
   ]
  },
  {
   "cell_type": "code",
   "execution_count": 7,
   "metadata": {},
   "outputs": [],
   "source": [
    "# get unlabelled data\n",
    "test_df = data_obj.get_unlabelled_data()\n",
    "\n",
    "cleaned_test_df = process_obj.get_preprocessd_data(test_df, text_column=\"user_msg\", has_labels = False)\n",
    "\n",
    "\n",
    "X_test = process_obj.get_DTM(cleaned_test_df, has_labels = False)\n"
   ]
  },
  {
   "cell_type": "code",
   "execution_count": 8,
   "metadata": {},
   "outputs": [],
   "source": [
    "test_y = clf.predict(X_test)"
   ]
  },
  {
   "cell_type": "code",
   "execution_count": 9,
   "metadata": {},
   "outputs": [
    {
     "data": {
      "text/plain": [
       "14"
      ]
     },
     "execution_count": 9,
     "metadata": {},
     "output_type": "execute_result"
    }
   ],
   "source": [
    "test_labels = process_obj.label_decoder(test_y)\n",
    "len(np.unique(test_labels))\n",
    "\n",
    "# new_test_df = pd.DataFrame({\n",
    "#     'user_msg': test_df['user_msg'],\n",
    "#     'label': test_labels\n",
    "# })\n",
    "\n",
    "# new_test_df.to_csv('./data/unlablled_labeled.csv', index=False)"
   ]
  },
  {
   "cell_type": "markdown",
   "metadata": {},
   "source": [
    "### Neural Network based classification"
   ]
  },
  {
   "cell_type": "markdown",
   "metadata": {},
   "source": [
    "Now lets apply a simple neural work to classify the text (using bag-of-words rather a sequence)"
   ]
  },
  {
   "cell_type": "code",
   "execution_count": 10,
   "metadata": {},
   "outputs": [],
   "source": [
    "import tensorflow as tf"
   ]
  },
  {
   "cell_type": "code",
   "execution_count": 11,
   "metadata": {},
   "outputs": [],
   "source": [
    "phrases = cleaned_train_df['phrase'].values\n",
    "labels = cleaned_train_df['class'].values"
   ]
  },
  {
   "cell_type": "code",
   "execution_count": 12,
   "metadata": {},
   "outputs": [],
   "source": [
    "tokenizer = tf.keras.preprocessing.text.Tokenizer(num_words=5000, lower=True, oov_token='<OOV>')\n",
    "tokenizer.fit_on_texts(phrases)\n",
    "sequences = tokenizer.texts_to_sequences(phrases)\n",
    "padded_sequences = tf.keras.preprocessing.sequence.pad_sequences(sequences, maxlen=20, padding='post')"
   ]
  },
  {
   "cell_type": "code",
   "execution_count": 13,
   "metadata": {},
   "outputs": [
    {
     "name": "stdout",
     "output_type": "stream",
     "text": [
      "15\n",
      "15\n",
      "Epoch 1/10\n",
      "\u001b[1m134/134\u001b[0m \u001b[32m━━━━━━━━━━━━━━━━━━━━\u001b[0m\u001b[37m\u001b[0m \u001b[1m1s\u001b[0m 4ms/step - accuracy: 0.1199 - loss: 2.6753 - val_accuracy: 0.1485 - val_loss: 2.5610\n",
      "Epoch 2/10\n",
      "\u001b[1m134/134\u001b[0m \u001b[32m━━━━━━━━━━━━━━━━━━━━\u001b[0m\u001b[37m\u001b[0m \u001b[1m0s\u001b[0m 4ms/step - accuracy: 0.1613 - loss: 2.5132 - val_accuracy: 0.1550 - val_loss: 2.4811\n",
      "Epoch 3/10\n",
      "\u001b[1m134/134\u001b[0m \u001b[32m━━━━━━━━━━━━━━━━━━━━\u001b[0m\u001b[37m\u001b[0m \u001b[1m1s\u001b[0m 4ms/step - accuracy: 0.1947 - loss: 2.4293 - val_accuracy: 0.2773 - val_loss: 2.3877\n",
      "Epoch 4/10\n",
      "\u001b[1m134/134\u001b[0m \u001b[32m━━━━━━━━━━━━━━━━━━━━\u001b[0m\u001b[37m\u001b[0m \u001b[1m0s\u001b[0m 4ms/step - accuracy: 0.3321 - loss: 2.3081 - val_accuracy: 0.3384 - val_loss: 2.2549\n",
      "Epoch 5/10\n",
      "\u001b[1m134/134\u001b[0m \u001b[32m━━━━━━━━━━━━━━━━━━━━\u001b[0m\u001b[37m\u001b[0m \u001b[1m0s\u001b[0m 4ms/step - accuracy: 0.3716 - loss: 2.1913 - val_accuracy: 0.4476 - val_loss: 2.0889\n",
      "Epoch 6/10\n",
      "\u001b[1m134/134\u001b[0m \u001b[32m━━━━━━━━━━━━━━━━━━━━\u001b[0m\u001b[37m\u001b[0m \u001b[1m0s\u001b[0m 4ms/step - accuracy: 0.4946 - loss: 1.9707 - val_accuracy: 0.5895 - val_loss: 1.9037\n",
      "Epoch 7/10\n",
      "\u001b[1m134/134\u001b[0m \u001b[32m━━━━━━━━━━━━━━━━━━━━\u001b[0m\u001b[37m\u001b[0m \u001b[1m0s\u001b[0m 4ms/step - accuracy: 0.6111 - loss: 1.7275 - val_accuracy: 0.6288 - val_loss: 1.7050\n",
      "Epoch 8/10\n",
      "\u001b[1m134/134\u001b[0m \u001b[32m━━━━━━━━━━━━━━━━━━━━\u001b[0m\u001b[37m\u001b[0m \u001b[1m1s\u001b[0m 4ms/step - accuracy: 0.6756 - loss: 1.5486 - val_accuracy: 0.6747 - val_loss: 1.5190\n",
      "Epoch 9/10\n",
      "\u001b[1m134/134\u001b[0m \u001b[32m━━━━━━━━━━━━━━━━━━━━\u001b[0m\u001b[37m\u001b[0m \u001b[1m0s\u001b[0m 4ms/step - accuracy: 0.7663 - loss: 1.2821 - val_accuracy: 0.6834 - val_loss: 1.3511\n",
      "Epoch 10/10\n",
      "\u001b[1m134/134\u001b[0m \u001b[32m━━━━━━━━━━━━━━━━━━━━\u001b[0m\u001b[37m\u001b[0m \u001b[1m0s\u001b[0m 4ms/step - accuracy: 0.7552 - loss: 1.1590 - val_accuracy: 0.7445 - val_loss: 1.2028\n"
     ]
    },
    {
     "data": {
      "image/png": "[encoded data removed]",
      "text/plain": [
       "<Figure size 1200x400 with 2 Axes>"
      ]
     },
     "metadata": {},
     "output_type": "display_data"
    }
   ],
   "source": [
    "model = models.get_simple_NN(len(np.unique(labels)))\n",
    "\n",
    "\n",
    "# Check the range of labels\n",
    "num_classes = len(np.unique(labels))\n",
    "if np.max(labels) >= num_classes:\n",
    "    raise ValueError(f\"Label values should be in the range [0, {num_classes-1}]\")\n",
    "\n",
    "X_train, X_val, y_train, y_val = train_test_split(padded_sequences, labels, test_size=0.3, stratify=labels, random_state=42)\n",
    "\n",
    "print(len(np.unique(y_val)))\n",
    "print(len(np.unique(y_train)))\n",
    "\n",
    "# Train the model\n",
    "history = model.fit(X_train, y_train, epochs=10, batch_size=8, validation_data=(X_val, y_val))\n",
    "\n",
    "\n",
    "# # Train the model\n",
    "# model.fit(padded_sequences, labels, epochs=100, batch_size=16, validation_split=0.1)\n",
    "\n",
    "\n",
    "# Plot training & validation accuracy values\n",
    "plt.figure(figsize=(12, 4))\n",
    "\n",
    "plt.subplot(1, 2, 1)\n",
    "plt.plot(history.history['accuracy'])\n",
    "plt.plot(history.history['val_accuracy'])\n",
    "plt.title('Model accuracy')\n",
    "plt.ylabel('Accuracy')\n",
    "plt.xlabel('Epoch')\n",
    "plt.legend(['Train', 'Validation'], loc='upper left')\n",
    "\n",
    "# Plot training & validation loss values\n",
    "plt.subplot(1, 2, 2)\n",
    "plt.plot(history.history['loss'])\n",
    "plt.plot(history.history['val_loss'])\n",
    "plt.title('Model loss')\n",
    "plt.ylabel('Loss')\n",
    "plt.xlabel('Epoch')\n",
    "plt.legend(['Train', 'Validation'], loc='upper left')\n",
    "\n",
    "plt.tight_layout()\n",
    "plt.show()"
   ]
  },
  {
   "cell_type": "code",
   "execution_count": 14,
   "metadata": {},
   "outputs": [
    {
     "data": {
      "text/plain": [
       "772"
      ]
     },
     "execution_count": 14,
     "metadata": {},
     "output_type": "execute_result"
    }
   ],
   "source": [
    "training_vocab = tokenizer.word_index\n",
    "\n",
    "len(training_vocab)"
   ]
  },
  {
   "cell_type": "markdown",
   "metadata": {},
   "source": [
    "In order to predict labels for test data first we need to hadle oov words. There many methods can be used to handle this but obvious one is replacing oov with a special token like <UNK>. Let's do it"
   ]
  },
  {
   "cell_type": "code",
   "execution_count": 15,
   "metadata": {},
   "outputs": [
    {
     "name": "stdout",
     "output_type": "stream",
     "text": [
      "\u001b[1m119/119\u001b[0m \u001b[32m━━━━━━━━━━━━━━━━━━━━\u001b[0m\u001b[37m\u001b[0m \u001b[1m0s\u001b[0m 668us/step\n"
     ]
    }
   ],
   "source": [
    "\n",
    "test_txt = cleaned_test_df['cleaned_text'].values\n",
    "\n",
    "test_sequences = tokenizer.texts_to_sequences(test_txt)\n",
    "\n",
    "# Pad the sequences\n",
    "padded_test_sequences = tf.keras.preprocessing.sequence.pad_sequences(test_sequences, maxlen=20, padding='post')\n",
    "\n",
    "predictions = model.predict(padded_test_sequences)\n",
    "\n",
    "\n",
    "predicted_classes = np.argmax(predictions, axis=1)\n",
    "\n",
    "NN_test_labels = process_obj.label_decoder(predicted_classes)\n",
    "\n",
    "NN_test_df = pd.DataFrame({\n",
    "    'user_msg': test_txt,\n",
    "    'label': NN_test_labels\n",
    "})\n",
    "\n",
    "NN_test_df.to_csv('./data/NN_unlablled_labeled.csv', index=False)\n",
    "\n"
   ]
  },
  {
   "cell_type": "markdown",
   "metadata": {},
   "source": [
    "Now we have model trained on labeled data. So, let's see if it works on the unlablled data or not."
   ]
  },
  {
   "cell_type": "code",
   "execution_count": 16,
   "metadata": {},
   "outputs": [],
   "source": [
    "tokenizer = tf.keras.preprocessing.text.Tokenizer(num_words=5000, lower=True, oov_token='<OOV>')\n",
    "tokenizer.fit_on_texts(test_txt)\n",
    "test_txt = tokenizer.texts_to_sequences(test_txt)\n",
    "\n",
    "test_vocab = tokenizer.word_index"
   ]
  },
  {
   "cell_type": "code",
   "execution_count": 17,
   "metadata": {},
   "outputs": [
    {
     "name": "stdout",
     "output_type": "stream",
     "text": [
      "Number of common keys: 363\n",
      "Number of different keys: 1904\n"
     ]
    }
   ],
   "source": [
    "# Find common keys\n",
    "common_keys = set(training_vocab.keys()) & set(test_vocab.keys())\n",
    "\n",
    "# Find different keys\n",
    "different_keys = set(training_vocab.keys()) ^ set(test_vocab.keys())\n",
    "\n",
    "print(f\"Number of common keys: {len(common_keys)}\")\n",
    "print(f\"Number of different keys: {len(different_keys)}\")"
   ]
  }
 ],
 "metadata": {
  "kernelspec": {
   "display_name": "NLP",
   "language": "python",
   "name": "python3"
  },
  "language_info": {
   "codemirror_mode": {
    "name": "ipython",
    "version": 3
   },
   "file_extension": ".py",
   "mimetype": "text/x-python",
   "name": "python",
   "nbconvert_exporter": "python",
   "pygments_lexer": "ipython3",
   "version": "3.11.9"
  }
 },
 "nbformat": 4,
 "nbformat_minor": 2
}
