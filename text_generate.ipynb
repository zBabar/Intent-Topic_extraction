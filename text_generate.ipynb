{
 "cells": [
  {
   "cell_type": "code",
   "execution_count": 25,
   "metadata": {},
   "outputs": [],
   "source": [
    "import tensorflow as tf\n",
    "\n",
    "import numpy as np\n",
    "import os\n",
    "import time"
   ]
  },
  {
   "cell_type": "code",
   "execution_count": 26,
   "metadata": {},
   "outputs": [
    {
     "data": {
      "text/plain": [
       "'/Users/zaheerbabar/.keras/datasets/shakespeare.txt'"
      ]
     },
     "execution_count": 26,
     "metadata": {},
     "output_type": "execute_result"
    }
   ],
   "source": [
    "path_to_file = tf.keras.utils.get_file('shakespeare.txt', 'https://storage.googleapis.com/download.tensorflow.org/data/shakespeare.txt')\n",
    "path_to_file"
   ]
  },
  {
   "cell_type": "code",
   "execution_count": 27,
   "metadata": {},
   "outputs": [
    {
     "name": "stdout",
     "output_type": "stream",
     "text": [
      "Length of text: 1115394 characters\n"
     ]
    }
   ],
   "source": [
    "# Read, then decode for py2 compat.\n",
    "text = open(path_to_file, 'rb').read().decode(encoding='utf-8')\n",
    "# length of text is the number of characters in it\n",
    "print(f'Length of text: {len(text)} characters')"
   ]
  },
  {
   "cell_type": "code",
   "execution_count": 28,
   "metadata": {},
   "outputs": [
    {
     "name": "stdout",
     "output_type": "stream",
     "text": [
      "First Citizen:\n",
      "Before we proceed any further, hear me speak.\n",
      "\n",
      "All:\n",
      "Speak, speak.\n",
      "\n",
      "First Citizen:\n",
      "You are all resolved rather to die than to famish?\n",
      "\n",
      "All:\n",
      "Resolved. resolved.\n",
      "\n",
      "First Citizen:\n",
      "First, you know Caius Marcius is chief enemy to the people.\n",
      "\n"
     ]
    }
   ],
   "source": [
    "# Take a look at the first 250 characters in text\n",
    "print(text[:250])"
   ]
  },
  {
   "cell_type": "code",
   "execution_count": 29,
   "metadata": {},
   "outputs": [
    {
     "name": "stdout",
     "output_type": "stream",
     "text": [
      "65 unique characters\n"
     ]
    }
   ],
   "source": [
    "vocab = sorted(set(text))\n",
    "print(f'{len(vocab)} unique characters')"
   ]
  },
  {
   "cell_type": "code",
   "execution_count": 30,
   "metadata": {},
   "outputs": [
    {
     "data": {
      "text/plain": [
       "<tf.RaggedTensor [[b'a', b'b', b'c', b'd', b'e', b'f', b'g'], [b'x', b'y', b'z']]>"
      ]
     },
     "execution_count": 30,
     "metadata": {},
     "output_type": "execute_result"
    }
   ],
   "source": [
    "example_texts = ['abcdefg', 'xyz']\n",
    "\n",
    "chars = tf.strings.unicode_split(example_texts, input_encoding='UTF-8')\n",
    "chars"
   ]
  },
  {
   "cell_type": "code",
   "execution_count": 31,
   "metadata": {},
   "outputs": [],
   "source": [
    "ids_from_chars = tf.keras.layers.StringLookup(\n",
    "    vocabulary=list(vocab), mask_token=None)"
   ]
  },
  {
   "cell_type": "code",
   "execution_count": 32,
   "metadata": {},
   "outputs": [
    {
     "data": {
      "text/plain": [
       "<tf.RaggedTensor [[40, 41, 42, 43, 44, 45, 46], [63, 64, 65]]>"
      ]
     },
     "execution_count": 32,
     "metadata": {},
     "output_type": "execute_result"
    }
   ],
   "source": [
    "ids = ids_from_chars(chars)\n",
    "ids"
   ]
  },
  {
   "cell_type": "code",
   "execution_count": 33,
   "metadata": {},
   "outputs": [],
   "source": [
    "chars_from_ids = tf.keras.layers.StringLookup(\n",
    "    vocabulary=ids_from_chars.get_vocabulary(), invert=True, mask_token=None)"
   ]
  },
  {
   "cell_type": "code",
   "execution_count": 34,
   "metadata": {},
   "outputs": [
    {
     "data": {
      "text/plain": [
       "<tf.RaggedTensor [[b'a', b'b', b'c', b'd', b'e', b'f', b'g'], [b'x', b'y', b'z']]>"
      ]
     },
     "execution_count": 34,
     "metadata": {},
     "output_type": "execute_result"
    }
   ],
   "source": [
    "chars = chars_from_ids(ids)\n",
    "chars"
   ]
  },
  {
   "cell_type": "code",
   "execution_count": 35,
   "metadata": {},
   "outputs": [
    {
     "data": {
      "text/plain": [
       "<tf.Tensor: shape=(2,), dtype=string, numpy=array([b'abcdefg', b'xyz'], dtype=object)>"
      ]
     },
     "execution_count": 35,
     "metadata": {},
     "output_type": "execute_result"
    }
   ],
   "source": [
    "def text_from_ids(ids):\n",
    "  return tf.strings.reduce_join(chars_from_ids(ids), axis=-1)\n",
    "\n",
    "text_from_ids(ids)"
   ]
  },
  {
   "cell_type": "code",
   "execution_count": 36,
   "metadata": {},
   "outputs": [
    {
     "data": {
      "text/plain": [
       "<tf.Tensor: shape=(1115394,), dtype=int64, numpy=array([19, 48, 57, ..., 46,  9,  1])>"
      ]
     },
     "execution_count": 36,
     "metadata": {},
     "output_type": "execute_result"
    }
   ],
   "source": [
    "all_ids = ids_from_chars(tf.strings.unicode_split(text, 'UTF-8'))\n",
    "all_ids"
   ]
  },
  {
   "cell_type": "code",
   "execution_count": 37,
   "metadata": {},
   "outputs": [],
   "source": [
    "ids_dataset = tf.data.Dataset.from_tensor_slices(all_ids)"
   ]
  },
  {
   "cell_type": "code",
   "execution_count": 38,
   "metadata": {},
   "outputs": [
    {
     "name": "stdout",
     "output_type": "stream",
     "text": [
      "F\n",
      "i\n",
      "r\n",
      "s\n",
      "t\n",
      " \n",
      "C\n",
      "i\n",
      "t\n",
      "i\n"
     ]
    }
   ],
   "source": [
    "for ids in ids_dataset.take(10):\n",
    "    print(chars_from_ids(ids).numpy().decode('utf-8'))"
   ]
  },
  {
   "cell_type": "code",
   "execution_count": 39,
   "metadata": {},
   "outputs": [],
   "source": [
    "seq_length = 100"
   ]
  },
  {
   "cell_type": "code",
   "execution_count": 40,
   "metadata": {},
   "outputs": [
    {
     "name": "stdout",
     "output_type": "stream",
     "text": [
      "tf.Tensor(b'First Citizen:\\nBefore we proceed any further, hear me speak.\\n\\nAll:\\nSpeak, speak.\\n\\nFirst Citizen:\\nYou ', shape=(), dtype=string)\n",
      "tf.Tensor(b'are all resolved rather to die than to famish?\\n\\nAll:\\nResolved. resolved.\\n\\nFirst Citizen:\\nFirst, you k', shape=(), dtype=string)\n",
      "tf.Tensor(b\"now Caius Marcius is chief enemy to the people.\\n\\nAll:\\nWe know't, we know't.\\n\\nFirst Citizen:\\nLet us ki\", shape=(), dtype=string)\n",
      "tf.Tensor(b\"ll him, and we'll have corn at our own price.\\nIs't a verdict?\\n\\nAll:\\nNo more talking on't; let it be d\", shape=(), dtype=string)\n",
      "tf.Tensor(b'one: away, away!\\n\\nSecond Citizen:\\nOne word, good citizens.\\n\\nFirst Citizen:\\nWe are accounted poor citi', shape=(), dtype=string)\n"
     ]
    }
   ],
   "source": [
    "sequences = ids_dataset.batch(seq_length+1, drop_remainder=True)\n",
    "\n",
    "for seq in sequences.take(5):\n",
    "  print(text_from_ids(seq))"
   ]
  },
  {
   "cell_type": "code",
   "execution_count": 41,
   "metadata": {},
   "outputs": [],
   "source": [
    "def split_input_target(sequence):\n",
    "    input_text = sequence[:-1]\n",
    "    target_text = sequence[1:]\n",
    "    return input_text, target_text"
   ]
  },
  {
   "cell_type": "code",
   "execution_count": 42,
   "metadata": {},
   "outputs": [
    {
     "data": {
      "text/plain": [
       "(['T', 'e', 'n', 's', 'o', 'r', 'f', 'l', 'o'],\n",
       " ['e', 'n', 's', 'o', 'r', 'f', 'l', 'o', 'w'])"
      ]
     },
     "execution_count": 42,
     "metadata": {},
     "output_type": "execute_result"
    }
   ],
   "source": [
    "split_input_target(list(\"Tensorflow\"))"
   ]
  },
  {
   "cell_type": "code",
   "execution_count": 43,
   "metadata": {},
   "outputs": [
    {
     "name": "stdout",
     "output_type": "stream",
     "text": [
      "Input : b'First Citizen:\\nBefore we proceed any further, hear me speak.\\n\\nAll:\\nSpeak, speak.\\n\\nFirst Citizen:\\nYou'\n",
      "Target: b'irst Citizen:\\nBefore we proceed any further, hear me speak.\\n\\nAll:\\nSpeak, speak.\\n\\nFirst Citizen:\\nYou '\n"
     ]
    }
   ],
   "source": [
    "dataset = sequences.map(split_input_target)\n",
    "\n",
    "for input_example, target_example in dataset.take(1):\n",
    "    print(\"Input :\", text_from_ids(input_example).numpy())\n",
    "    print(\"Target:\", text_from_ids(target_example).numpy())"
   ]
  },
  {
   "cell_type": "code",
   "execution_count": 44,
   "metadata": {},
   "outputs": [
    {
     "data": {
      "text/plain": [
       "<_PrefetchDataset element_spec=(TensorSpec(shape=(64, 100), dtype=tf.int64, name=None), TensorSpec(shape=(64, 100), dtype=tf.int64, name=None))>"
      ]
     },
     "execution_count": 44,
     "metadata": {},
     "output_type": "execute_result"
    }
   ],
   "source": [
    "# Batch size\n",
    "BATCH_SIZE = 64\n",
    "\n",
    "# Buffer size to shuffle the dataset\n",
    "# (TF data is designed to work with possibly infinite sequences,\n",
    "# so it doesn't attempt to shuffle the entire sequence in memory. Instead,\n",
    "# it maintains a buffer in which it shuffles elements).\n",
    "BUFFER_SIZE = 10000\n",
    "\n",
    "dataset = (\n",
    "    dataset\n",
    "    .shuffle(BUFFER_SIZE)\n",
    "    .batch(BATCH_SIZE, drop_remainder=True)\n",
    "    .prefetch(tf.data.experimental.AUTOTUNE))\n",
    "\n",
    "dataset"
   ]
  },
  {
   "cell_type": "code",
   "execution_count": 45,
   "metadata": {},
   "outputs": [
    {
     "name": "stdout",
     "output_type": "stream",
     "text": [
      "Input : [b\"arewell, my sovereign.\\n\\nKING HENRY VI:\\nFarewell, my Hector, and my Troy's true hope.\\n\\nCLARENCE:\\nIn s\"\n",
      " b'r the deed?\\n\\nProvost:\\nNo, my good lord; it was by private message.\\n\\nDUKE VINCENTIO:\\nFor which I do d'\n",
      " b\"ls true, 'tis there,\\nThat, like an eagle in a dove-cote, I\\nFlutter'd your Volscians in Corioli:\\nAlon\"\n",
      " b'ng:\\nthe very stream of his life and the business he hath\\nhelmed must upon a warranted need give him '\n",
      " b' my attempt\\nThe least of you shall share his part thereof.\\nSound drums and trumpets boldly and cheer'\n",
      " b\"en daffodils begin to peer,\\nWith heigh! the doxy over the dale,\\nWhy, then comes in the sweet o' the \"\n",
      " b'Zounds, he dies: I had forgot the reward.\\n\\nFirst Murderer:\\nWhere is thy conscience now?\\n\\nSecond Murd'\n",
      " b\" replenished sweet work of nature,\\nThat from the prime creation e'er she framed.'\\nThus both are gone\"\n",
      " b'pray thee take this mercy to provide\\nFor better times to come. Friar, advise him;\\nI leave him to you'\n",
      " b\"es are o' the mind, if it\\nbe not too rough for some that know little but\\nbowling, it will please ple\"\n",
      " b'ear by this sword\\nThou wilt perform my bidding.\\n\\nANTIGONUS:\\nI will, my lord.\\n\\nLEONTES:\\nMark and perf'\n",
      " b\" have confessed you did.\\n\\nDUKE VINCENTIO:\\n'Tis false.\\n\\nESCALUS:\\nHow! know you where you are?\\n\\nDUKE V\"\n",
      " b'courteous, and a kind, and a handsome, and, I\\nwarrant, a virtuous,--Where is your mother?\\n\\nJULIET:\\nW'\n",
      " b\"nt.\\n\\nLEONTES:\\nTwenty-three days\\nThey have been absent: 'tis good speed; foretells\\nThe great Apollo s\"\n",
      " b\"have frown'd on me;\\nDukes, earls, lords, gentlemen; indeed, of all.\\nI do not know that Englishman al\"\n",
      " b\"sband so much sweat. Cominius,\\nDroop not; adieu. Farewell, my wife, my mother:\\nI'll do well yet. Tho\"\n",
      " b'my name of George begins with G,\\nIt follows in his thought that I am he.\\nThese, as I learn, and such'\n",
      " b\"e is alter'd from a serious thing,\\nAnd now changed to 'The Beggar and the King.'\\nMy dangerous cousin\"\n",
      " b\"RK:\\nFarewell, my gracious lord; I'll to my castle.\\n\\nWARWICK:\\nAnd I'll keep London with my soldiers.\\n\"\n",
      " b\" she dares trust me with her little babe,\\nI'll show't the king and undertake to be\\nHer advocate to t\"\n",
      " b's a Montague, our foe,\\nA villain that is hither come in spite,\\nTo scorn at our solemnity this night.'\n",
      " b\"izen:\\nHow not your own desire?\\n\\nCORIOLANUS:\\nNo, sir,'twas never my desire yet to trouble the\\npoor wi\"\n",
      " b'l be found,\\nBe you beneath the sky.\\nI am angling now,\\nThough you perceive me not how I give line.\\nGo'\n",
      " b'ale moon shines by night:\\nAnd when I wander here and there,\\nI then do most go right.\\nIf tinkers may '\n",
      " b'ICHARD III:\\nHer life is only safest in her birth.\\n\\nQUEEN ELIZABETH:\\nAnd only in that safety died her'\n",
      " b\"at be process of thy kindness\\nLast longer telling than thy kindness' date.\\n\\nKING RICHARD III:\\nThen k\"\n",
      " b\"you now, I have spoke to the purpose twice:\\nThe one for ever earn'd a royal husband;\\nThe other for s\"\n",
      " b'ives out one fire; one nail, one nail;\\nRights by rights falter, strengths by strengths do fail.\\nCome'\n",
      " b' make him good friend to the people!\\n\\nAll Citizens:\\nAmen, amen. God save thee, noble consul!\\n\\nCORIOL'\n",
      " b\"give him gold enough and marry him to\\na puppet or an aglet-baby; or an old trot with ne'er\\na tooth i\"\n",
      " b'at can less hide his love or hate than he;\\nFor by his face straight shall you know his heart.\\n\\nDERBY'\n",
      " b'bring forth\\nA bird that will revenge upon you all:\\nAnd in that hope I throw mine eyes to heaven,\\nSco'\n",
      " b'ender playfellows to dust,\\nThy broken faith hath made a prey for worms.\\nWhat canst thou swear by now'\n",
      " b'there thy kingdom is.\\n\\nRIVERS:\\nMy Lord of Gloucester, in those busy days\\nWhich here you urge to prov'\n",
      " b\"he wheels of\\nCaesar? art thou led in triumph? What, is there\\nnone of Pygmalion's images, newly made \"\n",
      " b'LO:\\nO my dread lord,\\nI should be guiltier than my guiltiness,\\nTo think I can be undiscernible,\\nWhen '\n",
      " b' are glad to choose me for them; I\\ndo it for some piece of money, and go through with\\nall.\\n\\nESCALUS:'\n",
      " b\"'d of this fair proportion,\\nCheated of feature by dissembling nature,\\nDeformed, unfinish'd, sent bef\"\n",
      " b'oice as free\\nAs I do pray the gods.\\n\\nSICINIUS:\\nMark you this, people?\\n\\nCitizens:\\nTo the rock, to the'\n",
      " b\"gh there the people had more absolute power,\\nI say, they nourish'd disobedience, fed\\nThe ruin of the\"\n",
      " b' dear Sicilia\\nAnd that unhappy king, my master, whom\\nI so much thirst to see.\\n\\nFLORIZEL:\\nNow, good C'\n",
      " b\"d Delphos, to Apollo's temple,\\nCleomenes and Dion, whom you know\\nOf stuff'd sufficiency: now from th\"\n",
      " b'ed no more to time\\nThan I do now: with thought of such affections,\\nStep forth mine advocate; at your'\n",
      " b\"this great errand. Please your ladyship\\nTo visit the next room, I'll presently\\nAcquaint the queen of\"\n",
      " b' year.\\n\\nRICHARD:\\nNo; God forbid your grace should be forsworn.\\n\\nYORK:\\nI shall be, if I claim by open'\n",
      " b' our special drift;\\nThough sometimes you do blench from this to that,\\nAs cause doth minister. Go cal'\n",
      " b'rawn\\nin.\\n\\nESCALUS:\\nWell, no more of it, Master Froth: farewell.\\nCome you hither to me, Master tapste'\n",
      " b\"\\n\\nKING RICHARD III:\\nStanley, he is your wife's son well, look to it.\\n\\nBUCKINGHAM:\\nMy lord, I claim y\"\n",
      " b'him, fellows; bring him to the block.\\n\\nProvost:\\nNow, sir, how do you find the prisoner?\\n\\nDUKE VINCEN'\n",
      " b'me!\\n\\nFirst Conspirator:\\nHow is it with our general?\\n\\nAUFIDIUS:\\nEven so\\nAs with a man by his own alms'\n",
      " b\"nd given in earnest what I begg'd in jest.\\nThus doth he force the swords of wicked men\\nTo turn their\"\n",
      " b'our shields before your hearts, and fight\\nWith hearts more proof than shields. Advance,\\nbrave Titus:'\n",
      " b' top of judgment, should\\nBut judge you as you are? O, think on that;\\nAnd mercy then will breathe wit'\n",
      " b\"ad in mutinies?\\nOr, with the rest, where is your darling Rutland?\\nLook, York: I stain'd this napkin \"\n",
      " b'r, and\\nHe waged me with his countenance, as if\\nI had been mercenary.\\n\\nFirst Conspirator:\\nSo he did, '\n",
      " b\"ill have worn the petticoat,\\nAnd ne'er have stol'n the breech from Lancaster.\\n\\nPRINCE EDWARD:\\nLet AE\"\n",
      " b'our tribunes. Audience: peace, I say!\\n\\nCORIOLANUS:\\nFirst, hear me speak.\\n\\nBoth Tribunes:\\nWell, say. '\n",
      " b'yet what I say is true.\\nKing Richard, he is in the mighty hold\\nOf Bolingbroke: their fortunes both a'\n",
      " b'with us; speak fair: you may salve so,\\nNot what is dangerous present, but the loss\\nOf what is past.\\n'\n",
      " b'so? or did I dream it so?\\nOr am I mad, hearing him talk of Juliet,\\nTo think it was so? O, give me th'\n",
      " b'eyes?\\n\\nFRIAR LAURENCE:\\nLet me dispute with thee of thy estate.\\n\\nROMEO:\\nThou canst not speak of that '\n",
      " b\" virtuous and well-govern'd youth:\\nI would not for the wealth of all the town\\nHere in my house do hi\"\n",
      " b'e hazard of the die:\\nI think there be six Richmonds in the field;\\nFive have I slain to-day instead o'\n",
      " b'he\\nThe fairest I have yet beheld, desires access\\nTo your high presence.\\n\\nLEONTES:\\nWhat with him? he ']\n",
      "Target: [b\"rewell, my sovereign.\\n\\nKING HENRY VI:\\nFarewell, my Hector, and my Troy's true hope.\\n\\nCLARENCE:\\nIn si\"\n",
      " b' the deed?\\n\\nProvost:\\nNo, my good lord; it was by private message.\\n\\nDUKE VINCENTIO:\\nFor which I do di'\n",
      " b\"s true, 'tis there,\\nThat, like an eagle in a dove-cote, I\\nFlutter'd your Volscians in Corioli:\\nAlone\"\n",
      " b'g:\\nthe very stream of his life and the business he hath\\nhelmed must upon a warranted need give him a'\n",
      " b'my attempt\\nThe least of you shall share his part thereof.\\nSound drums and trumpets boldly and cheerf'\n",
      " b\"n daffodils begin to peer,\\nWith heigh! the doxy over the dale,\\nWhy, then comes in the sweet o' the y\"\n",
      " b'ounds, he dies: I had forgot the reward.\\n\\nFirst Murderer:\\nWhere is thy conscience now?\\n\\nSecond Murde'\n",
      " b\"replenished sweet work of nature,\\nThat from the prime creation e'er she framed.'\\nThus both are gone \"\n",
      " b'ray thee take this mercy to provide\\nFor better times to come. Friar, advise him;\\nI leave him to your'\n",
      " b\"s are o' the mind, if it\\nbe not too rough for some that know little but\\nbowling, it will please plen\"\n",
      " b'ar by this sword\\nThou wilt perform my bidding.\\n\\nANTIGONUS:\\nI will, my lord.\\n\\nLEONTES:\\nMark and perfo'\n",
      " b\"have confessed you did.\\n\\nDUKE VINCENTIO:\\n'Tis false.\\n\\nESCALUS:\\nHow! know you where you are?\\n\\nDUKE VI\"\n",
      " b'ourteous, and a kind, and a handsome, and, I\\nwarrant, a virtuous,--Where is your mother?\\n\\nJULIET:\\nWh'\n",
      " b\"t.\\n\\nLEONTES:\\nTwenty-three days\\nThey have been absent: 'tis good speed; foretells\\nThe great Apollo su\"\n",
      " b\"ave frown'd on me;\\nDukes, earls, lords, gentlemen; indeed, of all.\\nI do not know that Englishman ali\"\n",
      " b\"band so much sweat. Cominius,\\nDroop not; adieu. Farewell, my wife, my mother:\\nI'll do well yet. Thou\"\n",
      " b'y name of George begins with G,\\nIt follows in his thought that I am he.\\nThese, as I learn, and such '\n",
      " b\" is alter'd from a serious thing,\\nAnd now changed to 'The Beggar and the King.'\\nMy dangerous cousin,\"\n",
      " b\"K:\\nFarewell, my gracious lord; I'll to my castle.\\n\\nWARWICK:\\nAnd I'll keep London with my soldiers.\\n\\n\"\n",
      " b\"she dares trust me with her little babe,\\nI'll show't the king and undertake to be\\nHer advocate to th\"\n",
      " b' a Montague, our foe,\\nA villain that is hither come in spite,\\nTo scorn at our solemnity this night.\\n'\n",
      " b\"zen:\\nHow not your own desire?\\n\\nCORIOLANUS:\\nNo, sir,'twas never my desire yet to trouble the\\npoor wit\"\n",
      " b' be found,\\nBe you beneath the sky.\\nI am angling now,\\nThough you perceive me not how I give line.\\nGo '\n",
      " b'le moon shines by night:\\nAnd when I wander here and there,\\nI then do most go right.\\nIf tinkers may h'\n",
      " b'CHARD III:\\nHer life is only safest in her birth.\\n\\nQUEEN ELIZABETH:\\nAnd only in that safety died her '\n",
      " b\"t be process of thy kindness\\nLast longer telling than thy kindness' date.\\n\\nKING RICHARD III:\\nThen kn\"\n",
      " b\"ou now, I have spoke to the purpose twice:\\nThe one for ever earn'd a royal husband;\\nThe other for so\"\n",
      " b'ves out one fire; one nail, one nail;\\nRights by rights falter, strengths by strengths do fail.\\nCome,'\n",
      " b'make him good friend to the people!\\n\\nAll Citizens:\\nAmen, amen. God save thee, noble consul!\\n\\nCORIOLA'\n",
      " b\"ive him gold enough and marry him to\\na puppet or an aglet-baby; or an old trot with ne'er\\na tooth in\"\n",
      " b't can less hide his love or hate than he;\\nFor by his face straight shall you know his heart.\\n\\nDERBY:'\n",
      " b'ring forth\\nA bird that will revenge upon you all:\\nAnd in that hope I throw mine eyes to heaven,\\nScor'\n",
      " b'nder playfellows to dust,\\nThy broken faith hath made a prey for worms.\\nWhat canst thou swear by now?'\n",
      " b'here thy kingdom is.\\n\\nRIVERS:\\nMy Lord of Gloucester, in those busy days\\nWhich here you urge to prove'\n",
      " b\"e wheels of\\nCaesar? art thou led in triumph? What, is there\\nnone of Pygmalion's images, newly made w\"\n",
      " b'O:\\nO my dread lord,\\nI should be guiltier than my guiltiness,\\nTo think I can be undiscernible,\\nWhen I'\n",
      " b'are glad to choose me for them; I\\ndo it for some piece of money, and go through with\\nall.\\n\\nESCALUS:\\n'\n",
      " b\"d of this fair proportion,\\nCheated of feature by dissembling nature,\\nDeformed, unfinish'd, sent befo\"\n",
      " b'ice as free\\nAs I do pray the gods.\\n\\nSICINIUS:\\nMark you this, people?\\n\\nCitizens:\\nTo the rock, to the '\n",
      " b\"h there the people had more absolute power,\\nI say, they nourish'd disobedience, fed\\nThe ruin of the \"\n",
      " b'dear Sicilia\\nAnd that unhappy king, my master, whom\\nI so much thirst to see.\\n\\nFLORIZEL:\\nNow, good Ca'\n",
      " b\" Delphos, to Apollo's temple,\\nCleomenes and Dion, whom you know\\nOf stuff'd sufficiency: now from the\"\n",
      " b'd no more to time\\nThan I do now: with thought of such affections,\\nStep forth mine advocate; at your '\n",
      " b\"his great errand. Please your ladyship\\nTo visit the next room, I'll presently\\nAcquaint the queen of \"\n",
      " b'year.\\n\\nRICHARD:\\nNo; God forbid your grace should be forsworn.\\n\\nYORK:\\nI shall be, if I claim by open '\n",
      " b'our special drift;\\nThough sometimes you do blench from this to that,\\nAs cause doth minister. Go call'\n",
      " b'awn\\nin.\\n\\nESCALUS:\\nWell, no more of it, Master Froth: farewell.\\nCome you hither to me, Master tapster'\n",
      " b\"\\nKING RICHARD III:\\nStanley, he is your wife's son well, look to it.\\n\\nBUCKINGHAM:\\nMy lord, I claim yo\"\n",
      " b'im, fellows; bring him to the block.\\n\\nProvost:\\nNow, sir, how do you find the prisoner?\\n\\nDUKE VINCENT'\n",
      " b'e!\\n\\nFirst Conspirator:\\nHow is it with our general?\\n\\nAUFIDIUS:\\nEven so\\nAs with a man by his own alms '\n",
      " b\"d given in earnest what I begg'd in jest.\\nThus doth he force the swords of wicked men\\nTo turn their \"\n",
      " b'ur shields before your hearts, and fight\\nWith hearts more proof than shields. Advance,\\nbrave Titus:\\n'\n",
      " b'top of judgment, should\\nBut judge you as you are? O, think on that;\\nAnd mercy then will breathe with'\n",
      " b\"d in mutinies?\\nOr, with the rest, where is your darling Rutland?\\nLook, York: I stain'd this napkin w\"\n",
      " b', and\\nHe waged me with his countenance, as if\\nI had been mercenary.\\n\\nFirst Conspirator:\\nSo he did, m'\n",
      " b\"ll have worn the petticoat,\\nAnd ne'er have stol'n the breech from Lancaster.\\n\\nPRINCE EDWARD:\\nLet AEs\"\n",
      " b'ur tribunes. Audience: peace, I say!\\n\\nCORIOLANUS:\\nFirst, hear me speak.\\n\\nBoth Tribunes:\\nWell, say. P'\n",
      " b'et what I say is true.\\nKing Richard, he is in the mighty hold\\nOf Bolingbroke: their fortunes both ar'\n",
      " b'ith us; speak fair: you may salve so,\\nNot what is dangerous present, but the loss\\nOf what is past.\\n\\n'\n",
      " b'o? or did I dream it so?\\nOr am I mad, hearing him talk of Juliet,\\nTo think it was so? O, give me thy'\n",
      " b'yes?\\n\\nFRIAR LAURENCE:\\nLet me dispute with thee of thy estate.\\n\\nROMEO:\\nThou canst not speak of that t'\n",
      " b\"virtuous and well-govern'd youth:\\nI would not for the wealth of all the town\\nHere in my house do him\"\n",
      " b' hazard of the die:\\nI think there be six Richmonds in the field;\\nFive have I slain to-day instead of'\n",
      " b'e\\nThe fairest I have yet beheld, desires access\\nTo your high presence.\\n\\nLEONTES:\\nWhat with him? he c']\n"
     ]
    },
    {
     "name": "stderr",
     "output_type": "stream",
     "text": [
      "2024-08-23 08:56:49.999211: I tensorflow/core/framework/local_rendezvous.cc:404] Local rendezvous is aborting with status: OUT_OF_RANGE: End of sequence\n"
     ]
    }
   ],
   "source": [
    "for input_example, target_example in dataset.take(1):\n",
    "    print(\"Input :\", text_from_ids(input_example).numpy())\n",
    "    print(\"Target:\", text_from_ids(target_example).numpy())"
   ]
  },
  {
   "cell_type": "code",
   "execution_count": 46,
   "metadata": {},
   "outputs": [],
   "source": [
    "# Length of the vocabulary in StringLookup Layer\n",
    "vocab_size = len(ids_from_chars.get_vocabulary())\n",
    "\n",
    "# The embedding dimension\n",
    "embedding_dim = 256\n",
    "\n",
    "# Number of RNN units\n",
    "rnn_units = 1024"
   ]
  },
  {
   "cell_type": "code",
   "execution_count": 47,
   "metadata": {},
   "outputs": [],
   "source": [
    "class MyModel(tf.keras.Model):\n",
    "  def __init__(self, vocab_size, embedding_dim, rnn_units):\n",
    "    super().__init__(self)\n",
    "    self.embedding = tf.keras.layers.Embedding(vocab_size, embedding_dim)\n",
    "    self.gru = tf.keras.layers.GRU(rnn_units,\n",
    "                                   return_sequences=True,\n",
    "                                   return_state=True)\n",
    "    self.dense = tf.keras.layers.Dense(vocab_size)\n",
    "\n",
    "  def call(self, inputs, states=None, return_state=False, training=False):\n",
    "    x = inputs\n",
    "    x = self.embedding(x, training=training)\n",
    "    if states is None:\n",
    "      states = self.gru.get_initial_state(x)\n",
    "    x, states = self.gru(x, initial_state=states, training=training)\n",
    "    x = self.dense(x, training=training)\n",
    "\n",
    "    if return_state:\n",
    "      return x, states\n",
    "    else:\n",
    "      return x"
   ]
  },
  {
   "cell_type": "code",
   "execution_count": 48,
   "metadata": {},
   "outputs": [],
   "source": [
    "model = MyModel(\n",
    "    vocab_size=vocab_size,\n",
    "    embedding_dim=embedding_dim,\n",
    "    rnn_units=rnn_units)"
   ]
  },
  {
   "cell_type": "code",
   "execution_count": 49,
   "metadata": {},
   "outputs": [
    {
     "ename": "InvalidArgumentError",
     "evalue": "Exception encountered when calling MyModel.call().\n\n\u001b[1m{{function_node __wrapped__Pack_N_2_device_/job:localhost/replica:0/task:0/device:CPU:0}} Shapes of all inputs must match: values[0].shape = [64,100,256] != values[1].shape = [] [Op:Pack] name: \u001b[0m\n\nArguments received by MyModel.call():\n  • inputs=tf.Tensor(shape=(64, 100), dtype=int64)\n  • states=None\n  • return_state=False\n  • training=False",
     "output_type": "error",
     "traceback": [
      "\u001b[0;31m---------------------------------------------------------------------------\u001b[0m",
      "\u001b[0;31mInvalidArgumentError\u001b[0m                      Traceback (most recent call last)",
      "Cell \u001b[0;32mIn[49], line 2\u001b[0m\n\u001b[1;32m      1\u001b[0m \u001b[38;5;28;01mfor\u001b[39;00m input_example_batch, target_example_batch \u001b[38;5;129;01min\u001b[39;00m dataset\u001b[38;5;241m.\u001b[39mtake(\u001b[38;5;241m1\u001b[39m):\n\u001b[0;32m----> 2\u001b[0m     example_batch_predictions \u001b[38;5;241m=\u001b[39m \u001b[43mmodel\u001b[49m\u001b[43m(\u001b[49m\u001b[43minput_example_batch\u001b[49m\u001b[43m)\u001b[49m\n\u001b[1;32m      3\u001b[0m     \u001b[38;5;28mprint\u001b[39m(example_batch_predictions\u001b[38;5;241m.\u001b[39mshape, \u001b[38;5;124m\"\u001b[39m\u001b[38;5;124m# (batch_size, sequence_length, vocab_size)\u001b[39m\u001b[38;5;124m\"\u001b[39m)\n",
      "File \u001b[0;32m~/miniforge3/envs/NLP/lib/python3.11/site-packages/keras/src/utils/traceback_utils.py:122\u001b[0m, in \u001b[0;36mfilter_traceback.<locals>.error_handler\u001b[0;34m(*args, **kwargs)\u001b[0m\n\u001b[1;32m    119\u001b[0m     filtered_tb \u001b[38;5;241m=\u001b[39m _process_traceback_frames(e\u001b[38;5;241m.\u001b[39m__traceback__)\n\u001b[1;32m    120\u001b[0m     \u001b[38;5;66;03m# To get the full stack trace, call:\u001b[39;00m\n\u001b[1;32m    121\u001b[0m     \u001b[38;5;66;03m# `keras.config.disable_traceback_filtering()`\u001b[39;00m\n\u001b[0;32m--> 122\u001b[0m     \u001b[38;5;28;01mraise\u001b[39;00m e\u001b[38;5;241m.\u001b[39mwith_traceback(filtered_tb) \u001b[38;5;28;01mfrom\u001b[39;00m \u001b[38;5;28;01mNone\u001b[39;00m\n\u001b[1;32m    123\u001b[0m \u001b[38;5;28;01mfinally\u001b[39;00m:\n\u001b[1;32m    124\u001b[0m     \u001b[38;5;28;01mdel\u001b[39;00m filtered_tb\n",
      "Cell \u001b[0;32mIn[47], line 14\u001b[0m, in \u001b[0;36mMyModel.call\u001b[0;34m(self, inputs, states, return_state, training)\u001b[0m\n\u001b[1;32m     12\u001b[0m x \u001b[38;5;241m=\u001b[39m \u001b[38;5;28mself\u001b[39m\u001b[38;5;241m.\u001b[39membedding(x, training\u001b[38;5;241m=\u001b[39mtraining)\n\u001b[1;32m     13\u001b[0m \u001b[38;5;28;01mif\u001b[39;00m states \u001b[38;5;129;01mis\u001b[39;00m \u001b[38;5;28;01mNone\u001b[39;00m:\n\u001b[0;32m---> 14\u001b[0m   states \u001b[38;5;241m=\u001b[39m \u001b[38;5;28;43mself\u001b[39;49m\u001b[38;5;241;43m.\u001b[39;49m\u001b[43mgru\u001b[49m\u001b[38;5;241;43m.\u001b[39;49m\u001b[43mget_initial_state\u001b[49m\u001b[43m(\u001b[49m\u001b[43mx\u001b[49m\u001b[43m)\u001b[49m\n\u001b[1;32m     15\u001b[0m x, states \u001b[38;5;241m=\u001b[39m \u001b[38;5;28mself\u001b[39m\u001b[38;5;241m.\u001b[39mgru(x, initial_state\u001b[38;5;241m=\u001b[39mstates, training\u001b[38;5;241m=\u001b[39mtraining)\n\u001b[1;32m     16\u001b[0m x \u001b[38;5;241m=\u001b[39m \u001b[38;5;28mself\u001b[39m\u001b[38;5;241m.\u001b[39mdense(x, training\u001b[38;5;241m=\u001b[39mtraining)\n",
      "\u001b[0;31mInvalidArgumentError\u001b[0m: Exception encountered when calling MyModel.call().\n\n\u001b[1m{{function_node __wrapped__Pack_N_2_device_/job:localhost/replica:0/task:0/device:CPU:0}} Shapes of all inputs must match: values[0].shape = [64,100,256] != values[1].shape = [] [Op:Pack] name: \u001b[0m\n\nArguments received by MyModel.call():\n  • inputs=tf.Tensor(shape=(64, 100), dtype=int64)\n  • states=None\n  • return_state=False\n  • training=False"
     ]
    }
   ],
   "source": [
    "for input_example_batch, target_example_batch in dataset.take(1):\n",
    "    example_batch_predictions = model(input_example_batch)\n",
    "    print(example_batch_predictions.shape, \"# (batch_size, sequence_length, vocab_size)\")"
   ]
  },
  {
   "cell_type": "code",
   "execution_count": null,
   "metadata": {},
   "outputs": [],
   "source": [
    "model.summary()"
   ]
  },
  {
   "cell_type": "code",
   "execution_count": null,
   "metadata": {},
   "outputs": [],
   "source": [
    "sampled_indices = tf.random.categorical(example_batch_predictions[0], num_samples=1)\n",
    "sampled_indices = tf.squeeze(sampled_indices, axis=-1).numpy()\n",
    "sampled_indices"
   ]
  },
  {
   "cell_type": "code",
   "execution_count": null,
   "metadata": {},
   "outputs": [],
   "source": [
    "print(\"Input:\\n\", text_from_ids(input_example_batch[0]).numpy())\n",
    "print()\n",
    "print(\"Next Char Predictions:\\n\", text_from_ids(sampled_indices).numpy())"
   ]
  },
  {
   "cell_type": "code",
   "execution_count": null,
   "metadata": {},
   "outputs": [],
   "source": [
    "loss = tf.losses.SparseCategoricalCrossentropy(from_logits=True)"
   ]
  },
  {
   "cell_type": "code",
   "execution_count": null,
   "metadata": {},
   "outputs": [],
   "source": [
    "example_batch_mean_loss = loss(target_example_batch, example_batch_predictions)\n",
    "print(\"Prediction shape: \", example_batch_predictions.shape, \" # (batch_size, sequence_length, vocab_size)\")\n",
    "print(\"Mean loss:        \", example_batch_mean_loss)"
   ]
  },
  {
   "cell_type": "code",
   "execution_count": null,
   "metadata": {},
   "outputs": [],
   "source": [
    "tf.exp(example_batch_mean_loss).numpy()"
   ]
  },
  {
   "cell_type": "code",
   "execution_count": null,
   "metadata": {},
   "outputs": [],
   "source": [
    "model.compile(optimizer='adam', loss=loss)"
   ]
  },
  {
   "cell_type": "code",
   "execution_count": null,
   "metadata": {},
   "outputs": [],
   "source": [
    "# Directory where the checkpoints will be saved\n",
    "checkpoint_dir = './training_checkpoints'\n",
    "# Name of the checkpoint files\n",
    "checkpoint_prefix = os.path.join(checkpoint_dir, \"ckpt_{epoch}\")\n",
    "\n",
    "checkpoint_callback = tf.keras.callbacks.ModelCheckpoint(\n",
    "    filepath=checkpoint_prefix,\n",
    "    save_weights_only=True)"
   ]
  },
  {
   "cell_type": "code",
   "execution_count": null,
   "metadata": {},
   "outputs": [],
   "source": [
    "EPOCHS = 5"
   ]
  },
  {
   "cell_type": "code",
   "execution_count": null,
   "metadata": {},
   "outputs": [],
   "source": [
    "history = model.fit(dataset, epochs=EPOCHS, callbacks=[checkpoint_callback])"
   ]
  },
  {
   "cell_type": "code",
   "execution_count": null,
   "metadata": {},
   "outputs": [],
   "source": [
    "class OneStep(tf.keras.Model):\n",
    "  def __init__(self, model, chars_from_ids, ids_from_chars, temperature=1.0):\n",
    "    super().__init__()\n",
    "    self.temperature = temperature\n",
    "    self.model = model\n",
    "    self.chars_from_ids = chars_from_ids\n",
    "    self.ids_from_chars = ids_from_chars\n",
    "\n",
    "    # Create a mask to prevent \"[UNK]\" from being generated.\n",
    "    skip_ids = self.ids_from_chars(['[UNK]'])[:, None]\n",
    "    sparse_mask = tf.SparseTensor(\n",
    "        # Put a -inf at each bad index.\n",
    "        values=[-float('inf')]*len(skip_ids),\n",
    "        indices=skip_ids,\n",
    "        # Match the shape to the vocabulary\n",
    "        dense_shape=[len(ids_from_chars.get_vocabulary())])\n",
    "    self.prediction_mask = tf.sparse.to_dense(sparse_mask)\n",
    "\n",
    "  @tf.function\n",
    "  def generate_one_step(self, inputs, states=None):\n",
    "    # Convert strings to token IDs.\n",
    "    input_chars = tf.strings.unicode_split(inputs, 'UTF-8')\n",
    "    input_ids = self.ids_from_chars(input_chars).to_tensor()\n",
    "\n",
    "    # Run the model.\n",
    "    # predicted_logits.shape is [batch, char, next_char_logits]\n",
    "    predicted_logits, states = self.model(inputs=input_ids, states=states,\n",
    "                                          return_state=True)\n",
    "    # Only use the last prediction.\n",
    "    predicted_logits = predicted_logits[:, -1, :]\n",
    "    predicted_logits = predicted_logits/self.temperature\n",
    "    # Apply the prediction mask: prevent \"[UNK]\" from being generated.\n",
    "    predicted_logits = predicted_logits + self.prediction_mask\n",
    "\n",
    "    # Sample the output logits to generate token IDs.\n",
    "    predicted_ids = tf.random.categorical(predicted_logits, num_samples=1)\n",
    "    predicted_ids = tf.squeeze(predicted_ids, axis=-1)\n",
    "\n",
    "    # Convert from token ids to characters\n",
    "    predicted_chars = self.chars_from_ids(predicted_ids)\n",
    "\n",
    "    # Return the characters and model state.\n",
    "    return predicted_chars, states"
   ]
  },
  {
   "cell_type": "code",
   "execution_count": null,
   "metadata": {},
   "outputs": [],
   "source": [
    "one_step_model = OneStep(model, chars_from_ids, ids_from_chars)"
   ]
  },
  {
   "cell_type": "code",
   "execution_count": null,
   "metadata": {},
   "outputs": [],
   "source": [
    "start = time.time()\n",
    "states = None\n",
    "next_char = tf.constant(['ROMEO:', 'ROMEO:', 'ROMEO:', 'ROMEO:', 'ROMEO:'])\n",
    "result = [next_char]\n",
    "\n",
    "for n in range(1000):\n",
    "  next_char, states = one_step_model.generate_one_step(next_char, states=states)\n",
    "  result.append(next_char)\n",
    "\n",
    "result = tf.strings.join(result)\n",
    "end = time.time()\n",
    "print(result, '\\n\\n' + '_'*80)\n",
    "print('\\nRun time:', end - start)"
   ]
  }
 ],
 "metadata": {
  "kernelspec": {
   "display_name": "DL-env",
   "language": "python",
   "name": "python3"
  },
  "language_info": {
   "codemirror_mode": {
    "name": "ipython",
    "version": 3
   },
   "file_extension": ".py",
   "mimetype": "text/x-python",
   "name": "python",
   "nbconvert_exporter": "python",
   "pygments_lexer": "ipython3",
   "version": "3.11.9"
  }
 },
 "nbformat": 4,
 "nbformat_minor": 2
}
